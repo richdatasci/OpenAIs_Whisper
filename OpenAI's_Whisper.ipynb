{
  "nbformat": 4,
  "nbformat_minor": 0,
  "metadata": {
    "colab": {
      "provenance": []
    },
    "kernelspec": {
      "name": "python3",
      "display_name": "Python 3"
    },
    "language_info": {
      "name": "python"
    },
    "accelerator": "GPU"
  },
  "cells": [
    {
      "cell_type": "markdown",
      "source": [
        "# OpenAI's Whisper\n",
        "\n",
        "This is a simple example of using OpenAI's Whisper, a general-purpose speech recognition model."
      ],
      "metadata": {
        "id": "Wz8-yyfixnav"
      }
    },
    {
      "cell_type": "code",
      "execution_count": null,
      "metadata": {
        "id": "d3eN09MruZAz"
      },
      "outputs": [],
      "source": [
        "!pip install git+https://github.com/openai/whisper.git\n",
        "!pip install gradio"
      ]
    },
    {
      "cell_type": "markdown",
      "source": [
        "## Available models\n",
        "\n",
        "I copied the following list of available models from [Whisper's repo](https://github.com/openai/whisper):\n",
        "\n",
        "|  Size  | Parameters | English-only model | Multilingual model | Required VRAM | Relative speed |\n",
        "|:------:|:----------:|:------------------:|:------------------:|:-------------:|:--------------:|\n",
        "|  tiny  |    39 M    |     `tiny.en`      |       `tiny`       |     ~1 GB     |      ~32x      |\n",
        "|  base  |    74 M    |     `base.en`      |       `base`       |     ~1 GB     |      ~16x      |\n",
        "| small  |   244 M    |     `small.en`     |      `small`       |     ~2 GB     |      ~6x       |\n",
        "| medium |   769 M    |    `medium.en`     |      `medium`      |     ~5 GB     |      ~2x       |\n",
        "| large  |   1550 M   |        N/A         |      `large`       |    ~10 GB     |       1x       |\n"
      ],
      "metadata": {
        "id": "NGwl4xw3Bp_v"
      }
    },
    {
      "cell_type": "code",
      "source": [
        "import whisper\n",
        "import gradio as gr\n",
        "\n",
        "model = whisper.load_model(\"large\")"
      ],
      "metadata": {
        "id": "N-qJroNiuaXZ",
        "colab": {
          "base_uri": "https://localhost:8080/"
        },
        "outputId": "88855e77-a15d-4ae0-958f-c0f07fe86cef"
      },
      "execution_count": 6,
      "outputs": [
        {
          "output_type": "stream",
          "name": "stderr",
          "text": [
            "100%|█████████████████████████████████████| 2.87G/2.87G [00:48<00:00, 64.2MiB/s]\n"
          ]
        }
      ]
    },
    {
      "cell_type": "markdown",
      "source": [
        "We are going to use two functions to **transcribe** and **translate** audio files. "
      ],
      "metadata": {
        "id": "RZAPbavbZQnC"
      }
    },
    {
      "cell_type": "code",
      "source": [
        "def transcribe(file):\n",
        "    options = dict(task=\"transcribe\", best_of=5)\n",
        "    text = model.transcribe(file, **options)[\"text\"]\n",
        "    return text.strip()\n",
        "\n",
        "def translate(file):\n",
        "    options = dict(task=\"translate\", best_of=5)\n",
        "    text = model.transcribe(file, **options)[\"text\"]\n",
        "    return text.strip()"
      ],
      "metadata": {
        "id": "1-bnm8q1ukuC"
      },
      "execution_count": 7,
      "outputs": []
    },
    {
      "cell_type": "markdown",
      "source": [
        "# Gradio interface\n",
        "\n",
        "Here is a simple Gradio interface that you can use to record audio directly from your computer and a couple of buttons to transcribe and translate that audio.\n",
        "\n",
        "This interface was inspired by this [HuggingFace's notebook](https://colab.research.google.com/drive/1xO45FeNFBYfN6GyyUr3nEa08S0iHnWKM?usp=sharing)."
      ],
      "metadata": {
        "id": "1_EVP-M_YiB_"
      }
    },
    {
      "cell_type": "code",
      "source": [
        "block = gr.Blocks()\n",
        "\n",
        "with block:\n",
        "    with gr.Group():\n",
        "        audio = gr.Audio(\n",
        "            show_label=False,\n",
        "            source=\"microphone\",\n",
        "            type=\"filepath\"\n",
        "        )\n",
        "        with gr.Box():\n",
        "            with gr.Row().style(equal_height=True):\n",
        "                transcribe_button = gr.Button(\"Transcribe\")\n",
        "                translate_button = gr.Button(\"Translate\")\n",
        "        \n",
        "        textbox = gr.Textbox(show_label=False)\n",
        "        \n",
        "        transcribe_button.click(transcribe, inputs=[audio], outputs=[textbox])\n",
        "        translate_button.click(translate, inputs=[audio], outputs=[textbox])\n",
        " \n",
        "block.launch()"
      ],
      "metadata": {
        "colab": {
          "base_uri": "https://localhost:8080/",
          "height": 649
        },
        "id": "vWB3VP7QWBUD",
        "outputId": "fd199837-4bba-4c51-97d9-90ae01496a03"
      },
      "execution_count": 8,
      "outputs": [
        {
          "output_type": "stream",
          "name": "stdout",
          "text": [
            "Colab notebook detected. To show errors in colab notebook, set `debug=True` in `launch()`\n",
            "Running on public URL: https://13218.gradio.app\n",
            "\n",
            "This share link expires in 72 hours. For free permanent hosting, check out Spaces: https://huggingface.co/spaces\n"
          ]
        },
        {
          "output_type": "display_data",
          "data": {
            "text/plain": [
              "<IPython.core.display.HTML object>"
            ],
            "text/html": [
              "<div><iframe src=\"https://13218.gradio.app\" width=\"900\" height=\"500\" allow=\"autoplay; camera; microphone; clipboard-read; clipboard-write;\" frameborder=\"0\" allowfullscreen></iframe></div>"
            ]
          },
          "metadata": {}
        },
        {
          "output_type": "execute_result",
          "data": {
            "text/plain": [
              "(<gradio.routes.App at 0x7feb5de33310>,\n",
              " 'http://127.0.0.1:7861/',\n",
              " 'https://13218.gradio.app')"
            ]
          },
          "metadata": {},
          "execution_count": 8
        }
      ]
    },
    {
      "cell_type": "markdown",
      "source": [
        "You can also upload individual audio files and transcribe or translate them using the functions directly."
      ],
      "metadata": {
        "id": "MO7QmNK0ZhYi"
      }
    },
    {
      "cell_type": "code",
      "source": [
        "print(transcribe(\"mondaymins.mp3\"))"
      ],
      "metadata": {
        "id": "p4B-NxrMWoPn",
        "colab": {
          "base_uri": "https://localhost:8080/"
        },
        "outputId": "fec652a7-a027-483a-bd88-29ae813dec4d"
      },
      "execution_count": null,
      "outputs": [
        {
          "output_type": "stream",
          "name": "stdout",
          "text": [
            "Monday Minutes Good morning everyone and welcome to the latest edition of Monday Minutes. In our feature this week, check out our latest Wednesday webinar covering permanent recruitment. The slide deck and video recording are now available on the CXD Google site. In Hub Corner, this week's Wednesday webinar will focus on the RM6194 Backoffice Software Agreement. Make sure to tune in for all the updates. And you can now visit the CCS Service Status page, which can be used to check the status of our various customer portals. In CRM and Salesforce, new automatically created opportunities have been added to the system. And you can catch up on feedback erases. Read the CRM and Salesforce document to get the full update. In Category Updates and Engagement, please review a recent correction from the Aggregation team regarding an upcoming furniture opportunity for customers. The contract notice for RM6313 Demand Management and Renewals DPS has now been published. The DDAT Buyers Community of Practice event is scheduled to take place on 21st October 2022. And the DML team has added new marketing content for their RM6174 and RM6175 frameworks, which can now be shared with customers. In news articles, an £800 million NEPO framework sees contractors racing to renew their places. And Balfour Beatty are announced as the sole supplier on the £4 billion Scape Civil Engineering frameworks. We have three events this week. On Monday 3rd October, the Technology Products and Associated Services 2 Customer Engagement Online event. On Tuesday 4th October, the Buying Cyber Security Services webinar. And on Friday 7th October, a webinar on the three biggest challenges facing the insurance market. For more info on upcoming events, check out the events section of the CCS website. That's everything this week. Please contact cxdhub at crowncommercial.gov.uk if you have any questions or any feedback. Have a great week all.\n"
          ]
        }
      ]
    }
  ]
}